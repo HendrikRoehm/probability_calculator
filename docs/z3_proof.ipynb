{
 "cells": [
  {
   "cell_type": "code",
   "execution_count": 1,
   "id": "379159b5-23fe-4b94-83ae-02cefadfd044",
   "metadata": {},
   "outputs": [],
   "source": [
    "from z3 import *\n",
    "import numpy as np\n",
    "import matplotlib.pyplot as plt\n",
    "\n",
    "z3.set_param('parallel.enable', True)\n",
    "z3.set_param('parallel.threads.max', 32)\n",
    "z3.set_param('sat.local_search_threads', 3)\n",
    "z3.set_param('sat.threads', 3)\n",
    "z3.set_param('sat.lookahead_simplify', True) "
   ]
  },
  {
   "cell_type": "code",
   "execution_count": 2,
   "id": "6a2ef9db-b7ff-4253-a3c5-c5f5663d2d6f",
   "metadata": {},
   "outputs": [],
   "source": [
    "basecond = []\n",
    "\n",
    "def prove(condition, *precondition):\n",
    "    # precondition => condition\n",
    "    # equivalent: not precondition or condition\n",
    "    # if true not ^ is unsat\n",
    "    # check precondition and not condition on unsat\n",
    "    s = Solver()\n",
    "    s.add(And(*basecond))\n",
    "    s.add(And(*precondition))\n",
    "    s.add(Not(condition))\n",
    "    if s.check() == unsat:\n",
    "        return \"proved\"\n",
    "    else:\n",
    "        return s.model()\n",
    "\n",
    "def Prob(name):\n",
    "    p = Real(name)\n",
    "    basecond.append(p >= 0)\n",
    "    basecond.append(p <= 1)\n",
    "    return p\n",
    "\n",
    "def ThreePoints(prob, mean, square, t_min, t_max):\n",
    "    precondition = And(\n",
    "        0 < prob,\n",
    "        t_min < mean,\n",
    "        mean < t_max,\n",
    "        square - mean**2 >= 0,\n",
    "        square - mean**2 <= (t_max - mean) * (mean - t_min),\n",
    "    )\n",
    "    diff = (square - mean**2) * prob / (t_max - t_min)\n",
    "    p_min = diff / (mean - t_min)\n",
    "    p_max = diff / (t_max - mean)\n",
    "    p_mean = prob - p_min - p_max\n",
    "    return p_min, p_mean, p_max, precondition\n",
    "\n",
    "t_min = Real(\"t_min\")\n",
    "t_max = Real(\"t_max\")\n",
    "mean = Real(\"mean\")\n",
    "square = Real(\"square\")\n",
    "p = Prob(\"p\")"
   ]
  },
  {
   "cell_type": "code",
   "execution_count": 3,
   "id": "1d13f431-c447-45a5-bf78-c3d9fd10dadd",
   "metadata": {},
   "outputs": [
    {
     "data": {
      "text/plain": [
       "'proved'"
      ]
     },
     "execution_count": 3,
     "metadata": {},
     "output_type": "execute_result"
    }
   ],
   "source": [
    "# proof that ThreePoints is correct\n",
    "p_min, p_mean, p_max, threePointsPrecondition = ThreePoints(p, mean, square, t_min, t_max)\n",
    "prove(\n",
    "    And(\n",
    "        0 <= p_min,\n",
    "        p_min <= 1,\n",
    "        0 <= p_mean,\n",
    "        p_max <= 1,\n",
    "        0 <= p_max,\n",
    "        p_max <= 1,\n",
    "        p == p_min + p_mean + p_max,\n",
    "        p*mean == p_min * t_min + p_mean * mean + p_max * t_max,\n",
    "        p*square == p_min * t_min**2 + p_mean * mean**2 + p_max * t_max**2\n",
    "        \n",
    "    ),\n",
    "    threePointsPrecondition\n",
    ")"
   ]
  },
  {
   "cell_type": "code",
   "execution_count": 4,
   "id": "50d04986-c6fd-497c-b84a-2f5c910fdd9e",
   "metadata": {},
   "outputs": [],
   "source": [
    "a = Prob(\"a\")\n",
    "basecond.append(a > 0)\n",
    "basecond.append(a < 1)\n",
    "t = Real(\"t\")\n",
    "basecond.append(t > t_min)\n",
    "basecond.append(t < t_max)\n",
    "\n",
    "Ev = Real(\"Ev\")\n",
    "Ev0 = Real(\"Ev_0\")\n",
    "Ev1 = Real(\"Ev_1\")\n",
    "basecond.append(Ev0 < Ev1)\n",
    "basecond.append(Ev == a * Ev0 + (1-a) * Ev1)\n",
    "\n",
    "Sq = Real(\"Sq\")\n",
    "Sq0 = Real(\"Sq_0\")\n",
    "Sq1 = Real(\"Sq_1\")\n",
    "basecond.append(Sq == a * Sq0 + (1-a) * Sq1)\n",
    "basecond.append(Sq - Ev**2 > 0)\n",
    "basecond.append(Sq - Ev**2 <= (t_max - Ev)*(Ev - t_min))\n",
    "\n",
    "d = Sq0 - Ev0**2\n",
    "\n",
    "p0_min, p0_mean, p0_max, p0cond = ThreePoints(a*p, Ev0, Sq0, t_min, t)\n",
    "p1_min, p1_mean, p1_max, p1cond = ThreePoints((1-a)*p, Ev1, Sq1, t, t_max)"
   ]
  },
  {
   "cell_type": "code",
   "execution_count": 5,
   "id": "8e41ce71-ce34-4a46-9136-300ac3b50812",
   "metadata": {},
   "outputs": [
    {
     "data": {
      "text/plain": [
       "'proved'"
      ]
     },
     "execution_count": 5,
     "metadata": {},
     "output_type": "execute_result"
    }
   ],
   "source": [
    "res = prove(\n",
    "    And(\n",
    "        d >= 0,\n",
    "        d <= (t - Ev0)*(Ev0 - t_min),\n",
    "        p0_min + p0_mean + p0_max + p1_min + p1_mean + p1_max == p\n",
    "    ),\n",
    "    p0cond, p1cond\n",
    ")\n",
    "res"
   ]
  },
  {
   "cell_type": "code",
   "execution_count": 6,
   "id": "304a32e3-8930-4fcd-8657-47d17139584a",
   "metadata": {},
   "outputs": [
    {
     "name": "stdout",
     "output_type": "stream",
     "text": [
      "proved\n"
     ]
    },
    {
     "data": {
      "text/html": [
       "(1/(1 - a)<sup>2</sup>)&middot;\n",
       "((1 - a)&middot;(Sq - Ev<sup>2</sup>) -\n",
       " a&middot;(1 - a)&middot;(Sq_0 - Ev_0<sup>2</sup>) -\n",
       " a&middot;(Ev_0 - Ev)<sup>2</sup>)"
      ],
      "text/plain": [
       "(1/(1 - a)**2)*\n",
       "((1 - a)*(Sq - Ev**2) -\n",
       " a*(1 - a)*(Sq_0 - Ev_0**2) -\n",
       " a*(Ev_0 - Ev)**2)"
      ]
     },
     "execution_count": 6,
     "metadata": {},
     "output_type": "execute_result"
    }
   ],
   "source": [
    "d1 = Sq1 - Ev1**2\n",
    "Sq1replace = (Sq - a*Sq0)/(1-a)\n",
    "Ev1replace = (Ev - a*Ev0)/(1-a)\n",
    "\n",
    "d1s = substitute(d1, (Sq1, Sq1replace), (Ev1, Ev1replace))\n",
    "d1f = 1/(1-a)**2 * ((1-a)*(Sq-Ev**2) - a*(1-a)*d - a*(Ev0-Ev)**2)\n",
    "\n",
    "res = prove(\n",
    "    And(\n",
    "        d1 >= 0,\n",
    "        d1 <= (t_max - Ev1) * (Ev1 - t),\n",
    "        Ev1 == Ev1replace,\n",
    "        Sq1 == Sq1replace,\n",
    "        d1 == d1s,\n",
    "        d1s == d1f,\n",
    "        d <= (Sq - Ev**2) / a - (Ev0 - Ev)**2 / (1-a),\n",
    "        d >= (Sq - Ev**2) / a - (t_max - Ev)*(Ev - t) / a + (t_max - Ev0)*(Ev0 - t)\n",
    "    ),\n",
    "    p0cond, p1cond\n",
    ")\n",
    "print(res)\n",
    "\n",
    "\n",
    "d1f"
   ]
  },
  {
   "cell_type": "code",
   "execution_count": 7,
   "id": "92c607fe-31c8-42a2-8ea9-e8c114fc0c22",
   "metadata": {},
   "outputs": [
    {
     "data": {
      "text/plain": [
       "'proved'"
      ]
     },
     "execution_count": 7,
     "metadata": {},
     "output_type": "execute_result"
    }
   ],
   "source": [
    "# Auswertung untere und obere Einschränkung von d gegenüberstellen\n",
    "prove(\n",
    "    And(\n",
    "        Ev0 < t, # 1: d0 > und d0 <\n",
    "        Ev0 > t_min, # 2: d0 > und d0 <\n",
    "        Ev0 <= Ev/a - (1-a)/a*t, # 3: d1 > und d1 <\n",
    "        Ev0 >= Ev/a - (1-a)/a*t_max, # 4: d1 > und d1 <\n",
    "        (Ev0 - Ev)**2 <= (1-a)/a * (Sq - Ev**2), # 5: d0 > und d1 <\n",
    "        Ev0 <= t - 1/a/(t_max-t_min) * (Sq - Ev**2 - (t_max-Ev)*(Ev-t)), # 6: d0 < und d1 >\n",
    "\n",
    "        Ev0 < Ev, # (3) mit -t ersetzt durch (1)\n",
    "    ),\n",
    "    p0cond, p1cond\n",
    ")"
   ]
  },
  {
   "cell_type": "code",
   "execution_count": 8,
   "id": "174ad3dd-60a8-44f5-bdd8-8dc3c8ea9c18",
   "metadata": {},
   "outputs": [
    {
     "data": {
      "text/plain": [
       "'proved'"
      ]
     },
     "execution_count": 8,
     "metadata": {},
     "output_type": "execute_result"
    }
   ],
   "source": [
    "# Auswertung Schranken untere und obere von Ev0 gegenüberstellen\n",
    "prove(\n",
    "    And(\n",
    "        True, # 1 und 2\n",
    "        a < (t_max - Ev)/(t_max-t), # u1: 1 und 4\n",
    "        Implies(t < Ev, a <= (Sq - Ev**2)/(Sq - Ev**2 + (Ev-t)**2)), # u2: 1 und 5 >\n",
    "        a > (t - Ev) / (t - t_min), # l1: 2 und 3\n",
    "        True, # 2 und 5 <\n",
    "        # a > (Sq - Ev**2 - (t_max - Ev)*(Ev-t))/(t-t_min)/(t_max-t_min), # l2: 2 und 6\n",
    "        True, # 3 und 4\n",
    "        # Implies(t >= Ev, a >= (Ev - t)**2 / ((Ev-t)**2 + Sq - Ev**2)), # l3: 3 und 5 >\n",
    "        True, # 4 und 5 <\n",
    "        # a < (t_max - Ev - (Sq - Ev**2 - (t_max -Ev)*(Ev-t))/(t_max-t_min))/(t_max-t)# u3: 4 und 6\n",
    "        True, # 5 < und 5 >\n",
    "        # ? # 5 > und 6\n",
    "        True, # 2 und 7\n",
    "        True, # 4 und 7\n",
    "        True, # 5 > und 7\n",
    "    ),\n",
    "    p0cond, p1cond\n",
    ")"
   ]
  },
  {
   "cell_type": "code",
   "execution_count": 9,
   "id": "9e26f062-2e2a-4a03-a0a4-cfbe2b26cc4d",
   "metadata": {},
   "outputs": [],
   "source": [
    "# Schnitt von u1 und u2 in Punkt\n",
    "# t = Ev - (Sq - Ev**2) / (t_max - Ev)\n",
    "# au = (t_max - Ev) / (Sq - Ev**2 + t_max - Ev)\n",
    "\n",
    "# Schnittpunkt von u3 und 1\n",
    "# t = Ev + (Sq - Ev**2) / (Ev - t_min)\n",
    "# a = 1\n",
    "\n",
    "# Obere Schnittpunkte sind gleich den unteren Schnittpunkten\n",
    "# für zweiten:\n",
    "# al = 1 - (Ev - t_min)/(Sq - Ev**2 + Ev - t_min)\n",
    "\n",
    "# Restliche Schnitte und Reihenfolgen nicht bewiesen, sondern aus der Grafik unten abgelesen"
   ]
  },
  {
   "cell_type": "code",
   "execution_count": 10,
   "id": "686a1403-502a-4a55-b478-635d441c21b2",
   "metadata": {},
   "outputs": [
    {
     "name": "stderr",
     "output_type": "stream",
     "text": [
      "/tmp/ipykernel_3631232/3448294149.py:11: RuntimeWarning: divide by zero encountered in divide\n",
      "  au1 = (nt_max - nEv)/(nt_max-nt)\n",
      "/tmp/ipykernel_3631232/3448294149.py:13: RuntimeWarning: divide by zero encountered in divide\n",
      "  al1 = (nt - nEv) / (nt - nt_min)\n",
      "/tmp/ipykernel_3631232/3448294149.py:14: RuntimeWarning: divide by zero encountered in divide\n",
      "  al2 = (nSq - nEv**2 - (nt_max - nEv)*(nEv-nt))/(nt-nt_min)/(nt_max-nt_min)\n",
      "/tmp/ipykernel_3631232/3448294149.py:16: RuntimeWarning: divide by zero encountered in divide\n",
      "  au3 = (nt_max - nEv - (nSq - nEv**2 - (nt_max -nEv)*(nEv-nt))/(nt_max-nt_min))/(nt_max-nt)\n"
     ]
    },
    {
     "data": {
      "text/plain": [
       "<matplotlib.legend.Legend at 0x7770b0f80b00>"
      ]
     },
     "execution_count": 10,
     "metadata": {},
     "output_type": "execute_result"
    },
    {
     "data": {
      "image/png": "[encoded data removed]",
      "text/plain": [
       "<Figure size 640x480 with 1 Axes>"
      ]
     },
     "metadata": {},
     "output_type": "display_data"
    }
   ],
   "source": [
    "# Bsp für Sq = 1/4, a in Abhängigkeit von t\n",
    "nSq = 1/3\n",
    "nt_min = -1\n",
    "nt_max = +1\n",
    "nEv = 0\n",
    "\n",
    "nt0 = np.linspace(nt_min, nEv)\n",
    "nt1 = np.linspace(nEv, nt_max)\n",
    "nt  = np.linspace(nt_min, nt_max)\n",
    "\n",
    "au1 = (nt_max - nEv)/(nt_max-nt)\n",
    "au2 = (nSq - nEv**2)/(nSq - nEv**2 + (nEv-nt0)**2)\n",
    "al1 = (nt - nEv) / (nt - nt_min)\n",
    "al2 = (nSq - nEv**2 - (nt_max - nEv)*(nEv-nt))/(nt-nt_min)/(nt_max-nt_min)\n",
    "al3 = (nEv - nt1)**2 / ((nEv-nt1)**2 + nSq - nEv**2)\n",
    "au3 = (nt_max - nEv - (nSq - nEv**2 - (nt_max -nEv)*(nEv-nt))/(nt_max-nt_min))/(nt_max-nt)\n",
    "\n",
    "fig, ax = plt.subplots()\n",
    "ax.plot(nt, np.clip(au1, -0.5, 1.5), label=\"au1\")\n",
    "ax.plot(nt0, np.clip(au2, -0.5, 1.5), label=\"au2\")\n",
    "ax.plot(nt, np.clip(al1, -0.5, 1.5), label=\"al1\")\n",
    "ax.plot(nt, np.clip(al2, -0.5, 1.5), label=\"al2\")\n",
    "ax.plot(nt1, np.clip(al3, -0.5, 1.5), label=\"al3\")\n",
    "ax.plot(nt, np.clip(au3, -0.5, 1.5), label=\"au3\")\n",
    "ax.plot([nt_min, nt_max], [0, 0], label=\"c0\")\n",
    "ax.plot([nt_min, nt_max], [1, 1], label=\"c1\")\n",
    "ax.plot([nEv - (nSq -nEv**2)/(nt_max - nEv)], [(nt_max -nEv)/(nSq - nEv**2 + nt_max - nEv)], \"o\", label=\"u1u2\")\n",
    "ax.plot([nEv + (nSq - nEv**2) / (nEv - nt_min)],[1], \"o\", label=\"u3c1\")\n",
    "ax.plot([nEv - (nSq - nEv**2) / (nt_max - nEv)],[0], \"o\", label=\"l2c0\")\n",
    "ax.plot([nEv + (nSq -nEv**2)/(nEv - nt_min)], [1 - (nEv - nt_min)/(nSq - nEv**2 + nEv - nt_min)], \"o\", label=\"u1u2\")\n",
    "ax.legend()"
   ]
  },
  {
   "cell_type": "code",
   "execution_count": 11,
   "id": "5ca3bae0-0363-45ba-be67-3317908a8d4b",
   "metadata": {},
   "outputs": [
    {
     "name": "stdout",
     "output_type": "stream",
     "text": [
      "failed to solve\n",
      "[/0 = [else -> 0]]\n"
     ]
    }
   ],
   "source": [
    "solve(And(a > 0, 0 >= - 1/Sqrt(a)))"
   ]
  }
 ],
 "metadata": {
  "kernelspec": {
   "display_name": "Python 3 (ipykernel)",
   "language": "python",
   "name": "python3"
  },
  "language_info": {
   "codemirror_mode": {
    "name": "ipython",
    "version": 3
   },
   "file_extension": ".py",
   "mimetype": "text/x-python",
   "name": "python",
   "nbconvert_exporter": "python",
   "pygments_lexer": "ipython3",
   "version": "3.12.3"
  }
 },
 "nbformat": 4,
 "nbformat_minor": 5
}
