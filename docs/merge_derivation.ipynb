{
 "cells": [
  {
   "cell_type": "markdown",
   "id": "b9a788bc-6331-4f2c-9eac-bdd03d98a3ed",
   "metadata": {},
   "source": [
    "This notebook should document the investigation in merging different parts and about deriving merge heuristics."
   ]
  },
  {
   "cell_type": "code",
   "execution_count": 2,
   "id": "634cd337-0da3-4beb-a8ba-5574efd89ee2",
   "metadata": {},
   "outputs": [],
   "source": [
    "import probability_calculator as pc\n",
    "from fractions import Fraction\n",
    "import matplotlib.pyplot as plt\n",
    "import numpy as np"
   ]
  },
  {
   "cell_type": "code",
   "execution_count": 10,
   "id": "a0c88e1a-15eb-46f9-b0e9-69fd8d6719c1",
   "metadata": {},
   "outputs": [
    {
     "data": {
      "text/plain": [
       "[<matplotlib.lines.Line2D at 0x793dbef49a90>]"
      ]
     },
     "execution_count": 10,
     "metadata": {},
     "output_type": "execute_result"
    },
    {
     "data": {
      "image/png": "[encoded data removed]",
      "text/plain": [
       "<Figure size 640x480 with 1 Axes>"
      ]
     },
     "metadata": {},
     "output_type": "display_data"
    }
   ],
   "source": [
    "part1 = pc.part._Part(\n",
    "    Fraction(1,2),\n",
    "    Fraction(0),\n",
    "    Fraction(2, 2),\n",
    "    Fraction(-1),\n",
    "    Fraction(1)\n",
    ")\n",
    "\n",
    "mean2 = Fraction(10, 10)\n",
    "d2 = Fraction(1, 1)\n",
    "part2 = pc.part._Part(\n",
    "    Fraction(1,2),\n",
    "    mean2,\n",
    "    d2 + mean2**2,\n",
    "    Fraction(-1, 1) + mean2,\n",
    "    Fraction(1, 1) + mean2\n",
    ")\n",
    "\n",
    "parts = pc.part._Part.merge([part1, part2])\n",
    "\n",
    "def plotData(part):\n",
    "    ts = []\n",
    "    l1 = []\n",
    "    u1 = []\n",
    "\n",
    "    t = Fraction(part1._min) - 1\n",
    "    delta = (part2._max - part1._min) / 100\n",
    "    while t <= part2._max + 1:\n",
    "        (lower, upper) = part.partial_cdf(t)\n",
    "    \n",
    "        ts.append(float(t))\n",
    "        l1.append(float(lower))\n",
    "        u1.append(float(upper))\n",
    "\n",
    "        t += delta\n",
    "\n",
    "    return ts, l1, u1\n",
    "\n",
    "ts1, l1, u1 = plotData(part1)\n",
    "ts2, l2, u2 = plotData(part2)\n",
    "tss, ls, us = plotData(parts)\n",
    "\n",
    "plt.plot(ts1, np.array(l1) + np.array(l2))\n",
    "plt.plot(ts1, np.array(u1) + np.array(u2))\n",
    "plt.plot(tss, ls)\n",
    "plt.plot(tss, us)"
   ]
  },
  {
   "cell_type": "markdown",
   "id": "f1817832-4959-4b63-a4da-5de5e6d987c7",
   "metadata": {},
   "source": [
    "Idee: Integrale der Differenz als Fehlermaß\n",
    "\n",
    "Integral obere von (Part1+Part2) - Integral obere von Part1 - Integral obere von Part2\n",
    "\n",
    "Damit: Berechne das Integral eines Parts"
   ]
  },
  {
   "cell_type": "code",
   "execution_count": 3,
   "id": "c4ada77c-c0aa-4972-bd63-404064480028",
   "metadata": {},
   "outputs": [
    {
     "name": "stdout",
     "output_type": "stream",
     "text": [
      "0.12016299163254052 0.12015049158624415\n"
     ]
    }
   ],
   "source": [
    "# obere Schranke t_min bis bound1:\n",
    "# sqrt(d)*p* (arctan((bound1-Ev)/sqrt(d)) - arctan((t_min-Ev)/sqrt(d)))\n",
    "\n",
    "d = part1._square - part1._mean**2\n",
    "dmaxmean = part1._max - part1._mean\n",
    "bound1 = part1._mean - d / dmaxmean\n",
    "\n",
    "sumintegral = 0.\n",
    "if True:\n",
    "    t = Fraction(part1._min)\n",
    "    delta = (bound1 - part1._min) / 10000\n",
    "    while t <= bound1:\n",
    "        (lower, upper) = part1.partial_cdf(t)\n",
    "        sumintegral += float(upper*delta)\n",
    "        t += delta\n",
    "\n",
    "fsqrtd = np.sqrt(float(d))\n",
    "integral_u0 = float(part1._p) * fsqrtd * (np.arctan(-fsqrtd / float(part1._max - part1._mean)) - np.arctan(float(part1._min - part1._mean)/fsqrtd))\n",
    "\n",
    "print(sumintegral, integral_u0)"
   ]
  },
  {
   "cell_type": "code",
   "execution_count": 4,
   "id": "802cb2cb-ff7b-485d-ba1b-db218cee62c6",
   "metadata": {},
   "outputs": [
    {
     "name": "stdout",
     "output_type": "stream",
     "text": [
      "0.1298703417007927 0.12984950841375587\n"
     ]
    }
   ],
   "source": [
    "# untere Schranke bound2 und t_max:\n",
    "# siehe integral unten\n",
    "\n",
    "d = part1._square - part1._mean**2\n",
    "dmaxmean = part1._max - part1._mean\n",
    "dmeanmin = part1._mean - part1._min\n",
    "bound2 = part1._mean + d / dmeanmin\n",
    "\n",
    "sumintegral = 0.\n",
    "if True:\n",
    "    t = Fraction(bound2)\n",
    "    delta = (part1._max - bound2) / 10000\n",
    "    while t <= part1._max:\n",
    "        (lower, upper) = part1.partial_cdf(t)\n",
    "        sumintegral += float(lower*delta)\n",
    "        t += delta\n",
    "\n",
    "fsqrtd = np.sqrt(float(d))\n",
    "integral_l2 = float(part1._p) * float(part1._max - bound2) - float(part1._p) * fsqrtd * (np.arctan(-fsqrtd / float(dmeanmin)) - np.arctan(float(-dmaxmean)/fsqrtd))\n",
    "print(sumintegral, integral_l2)"
   ]
  },
  {
   "cell_type": "code",
   "execution_count": 5,
   "id": "685379a6-a9c2-411e-8367-b217a8a7522c",
   "metadata": {},
   "outputs": [
    {
     "name": "stdout",
     "output_type": "stream",
     "text": [
      "0.3873682031205505 0.38732653608351375\n"
     ]
    }
   ],
   "source": [
    "# obere Schranke zwischen bound1 und bound2:\n",
    "# siehe integral unten\n",
    " \n",
    "d = part1._square - part1._mean**2\n",
    "dmaxmean = part1._max - part1._mean\n",
    "dmeanmin = part1._mean - part1._min\n",
    "dmaxmin = part1._max - part1._min\n",
    "bound1 = part1._mean - d / dmaxmean\n",
    "bound2 = part1._mean + d / dmeanmin\n",
    "dupper = dmaxmean * dmeanmin\n",
    "\n",
    "sumintegral = 0.\n",
    "if True:\n",
    "    t = bound1\n",
    "    delta = (bound2 - bound1) / 10000\n",
    "    while t <= bound2:\n",
    "        (lower, upper) = part1.partial_cdf(t)\n",
    "        sumintegral += float(upper*delta)\n",
    "        t += delta\n",
    "\n",
    "\n",
    "I = np.log(float((dupper + dmeanmin / dmaxmean * d)/(dupper - d)))\n",
    "integral_u1 = float(part1._p) * (bound2 - bound1) - float(part1._p / dmaxmin) * (float(dmaxmin * d / dmaxmean) + I * float(d - dmaxmean * dmeanmin))\n",
    "\n",
    "print(sumintegral, integral_u1)"
   ]
  },
  {
   "cell_type": "code",
   "execution_count": 6,
   "id": "43bc6501-bfbd-41ae-8923-ea040eaa32ae",
   "metadata": {},
   "outputs": [
    {
     "name": "stdout",
     "output_type": "stream",
     "text": [
      "0.11268179687944879 0.11267346391648628\n"
     ]
    }
   ],
   "source": [
    "# untere Schranke zwischen bound1 und bound2:\n",
    "# siehe integral unten\n",
    " \n",
    "d = part1._square - part1._mean**2\n",
    "dmaxmean = part1._max - part1._mean\n",
    "dmeanmin = part1._mean - part1._min\n",
    "dmaxmin = part1._max - part1._min\n",
    "bound1 = part1._mean - d / dmaxmean\n",
    "bound2 = part1._mean + d / dmeanmin\n",
    "dupper = dmaxmean * dmeanmin\n",
    "\n",
    "sumintegral = 0.\n",
    "if True:\n",
    "    t = bound1\n",
    "    delta = (bound2 - bound1) / 10000\n",
    "    while t <= bound2:\n",
    "        (lower, upper) = part1.partial_cdf(t)\n",
    "        sumintegral += float(lower*delta)\n",
    "        t += delta\n",
    "\n",
    "\n",
    "I = np.log(float((dupper + dmaxmean / dmeanmin * d)/(dupper - d)))\n",
    "integral_l1 = float(part1._p / dmaxmin) * (float(dmaxmin * d / dmeanmin) + I * float(d - dmaxmean * dmeanmin))\n",
    "\n",
    "print(sumintegral, integral_l1)"
   ]
  },
  {
   "cell_type": "code",
   "execution_count": 7,
   "id": "ea7b61e5-bd5f-49e4-b6f0-362edbf20a10",
   "metadata": {},
   "outputs": [
    {
     "name": "stdout",
     "output_type": "stream",
     "text": [
      "0.2746530721670275 0.27465307216702745\n"
     ]
    }
   ],
   "source": [
    "# Differenz Schranke oben und unten zwischen bound1 und bound2:\n",
    "# siehe integral unten\n",
    " \n",
    "d = part1._square - part1._mean**2\n",
    "dmaxmean = part1._max - part1._mean\n",
    "dmeanmin = part1._mean - part1._min\n",
    "dmaxmin = part1._max - part1._min\n",
    "bound1 = part1._mean - d / dmaxmean\n",
    "bound2 = part1._mean + d / dmeanmin\n",
    "dupper = dmaxmean * dmeanmin\n",
    "\n",
    "I = np.log(float((dupper**2 + d**2  + d * (dmaxmean**2 + dmeanmin**2))/(dupper - d)**2))\n",
    "integral = float(part1._p / dmaxmin) * I * float(dupper - d)\n",
    "\n",
    "print(integral_u1 - integral_l1, integral)"
   ]
  },
  {
   "cell_type": "code",
   "execution_count": 8,
   "id": "6779695a-ade3-43f7-9aec-cb2021e9cea1",
   "metadata": {},
   "outputs": [
    {
     "name": "stdout",
     "output_type": "stream",
     "text": [
      "0.5149540553395158 0.5149540553395158\n"
     ]
    }
   ],
   "source": [
    "# Gesamtdifferenz\n",
    "\n",
    "integral_u2 = float(part1._p) * float(dmaxmean - d / dmeanmin)\n",
    "\n",
    "print(integral_u0 + integral_u1 + integral_u2 - integral_l1 - integral_l2, float(part1._p) * part1.cdf_uncertainty())"
   ]
  },
  {
   "cell_type": "code",
   "execution_count": null,
   "id": "1f1a34ee-ad48-41c8-a5fe-123384ee875f",
   "metadata": {},
   "outputs": [],
   "source": []
  }
 ],
 "metadata": {
  "kernelspec": {
   "display_name": "Python 3 (ipykernel)",
   "language": "python",
   "name": "python3"
  },
  "language_info": {
   "codemirror_mode": {
    "name": "ipython",
    "version": 3
   },
   "file_extension": ".py",
   "mimetype": "text/x-python",
   "name": "python",
   "nbconvert_exporter": "python",
   "pygments_lexer": "ipython3",
   "version": "3.12.3"
  }
 },
 "nbformat": 4,
 "nbformat_minor": 5
}
